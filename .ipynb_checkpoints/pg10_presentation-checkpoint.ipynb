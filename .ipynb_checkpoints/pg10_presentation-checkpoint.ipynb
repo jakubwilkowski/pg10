{
 "cells": [
  {
   "cell_type": "markdown",
   "metadata": {
    "slideshow": {
     "slide_type": "slide"
    }
   },
   "source": [
    "# 5 really cool features of Postgres 10\n",
    "<br /><br /><br /><br /><br />\n",
    "## <div style=\"text-align: right\">Author: Jakub Wilkowski </div>"
   ]
  },
  {
   "cell_type": "markdown",
   "metadata": {
    "slideshow": {
     "slide_type": "slide"
    }
   },
   "source": [
    "# About me\n",
    "<br />\n",
    "## Currently:\n",
    "### Python developer\n",
    "<img class=\"tenc-header__logo\" src=\"https://10clouds.com/wp-content/themes/thegem/dist/images/10clouds-logo-color-black.svg\" alt=\"10Clouds\" >\n",
    "<br /><br />\n",
    "## Previously:\n",
    "#### * Database developer in major telecom company\n",
    "#### * Application development specialist in consulting/finance\n",
    "#### * MSc in telecommunications"
   ]
  },
  {
   "cell_type": "markdown",
   "metadata": {
    "slideshow": {
     "slide_type": "slide"
    }
   },
   "source": [
    "# Agenda\n",
    "<br />\n",
    "\n",
    "#### 1. Identity columns\n",
    "#### 2. Native partitioning\n",
    "#### 3. Multicolumn statistics\n",
    "#### 4. More parallelism\n",
    "#### 5. Full text search support JSON & JSONB columns"
   ]
  },
  {
   "cell_type": "markdown",
   "metadata": {
    "slideshow": {
     "slide_type": "slide"
    }
   },
   "source": [
    "#  1. Identity columns"
   ]
  },
  {
   "cell_type": "markdown",
   "metadata": {
    "slideshow": {
     "slide_type": "slide"
    }
   },
   "source": [
    "## Example (pg10)\n"
   ]
  },
  {
   "cell_type": "markdown",
   "metadata": {
    "slideshow": {
     "slide_type": "subslide"
    }
   },
   "source": [
    "### Create table with identity column\n",
    "<br />\n",
    "```postgres\n",
    "CREATE TABLE foo (\n",
    "    id INTEGER GENERATED ALWAYS AS IDENTITY PRIMARY KEY,\n",
    "    val1 INTEGER);\n",
    "    \n",
    "INSERT INTO foo(val1) VALUES (1);\n",
    "```"
   ]
  },
  {
   "cell_type": "markdown",
   "metadata": {
    "slideshow": {
     "slide_type": "subslide"
    }
   },
   "source": [
    "### Sequence restart\n",
    "<br />\n",
    "```postgres\n",
    "ALTER TABLE foo ALTER COLUMN id RESTART WITH 1000;\n",
    "INSERT INTO foo(val1) VALUES (2);\n",
    "```\n",
    "\n"
   ]
  },
  {
   "cell_type": "markdown",
   "metadata": {
    "slideshow": {
     "slide_type": "subslide"
    }
   },
   "source": [
    "### Creating copy of the table\n",
    "<br />\n",
    "```postgres\n",
    "CREATE TABLE bar (LIKE foo INCLUDING ALL);\n",
    "INSERT INTO bar(val1) VALUES (3);\n",
    "INSERT INTO foo(val1) VALUES (4);\n",
    "```"
   ]
  },
  {
   "cell_type": "markdown",
   "metadata": {
    "slideshow": {
     "slide_type": "subslide"
    }
   },
   "source": [
    "### Querying foo & bar\n",
    "<br />\n",
    "```postgres\n",
    "SELECT id, val1, 'foo' AS tbl FROM foo\n",
    "UNION\n",
    "SELECT id, val1, 'bar' AS tbl FROM bar\n",
    "ORDER BY val1;```\n",
    "<br/>\n",
    "\n",
    "id  | val1 | tbl\n",
    "----|------|----\n",
    "1   |1     |foo\n",
    "1000|2     |foo\n",
    "1   |3     |bar\n",
    "1001|4     |foo"
   ]
  },
  {
   "cell_type": "markdown",
   "metadata": {
    "slideshow": {
     "slide_type": "slide"
    }
   },
   "source": [
    "## Meanwhile in pg 9.6...\n",
    "#### (Above steps were repeated using old syntax)\n"
   ]
  },
  {
   "cell_type": "markdown",
   "metadata": {
    "slideshow": {
     "slide_type": "subslide"
    }
   },
   "source": [
    "### Querying foo & bar\n",
    "<br/>\n",
    "```postgres\n",
    "SELECT id, val1, 'foo' as tbl FROM foo\n",
    "UNION\n",
    "SELECT id, val1, 'bar' as tbl FROM bar\n",
    "ORDER BY val1;\n",
    "```\n",
    "<br/>\n",
    "\n",
    "id  | val1 | tbl\n",
    "----|------|----\n",
    "1   |1     |foo\n",
    "1000|2     |foo\n",
    "1001|3     |bar\n",
    "1002|4     |foo"
   ]
  },
  {
   "cell_type": "markdown",
   "metadata": {
    "slideshow": {
     "slide_type": "subslide"
    }
   },
   "source": [
    "```\n",
    "                        Table \"public.bar\"\n",
    " Column |  Type   |                    Modifiers                     \n",
    "--------+---------+-------------------------------------------------\n",
    " id     | integer | not null default nextval('foo_id_seq'::regclass)\n",
    " val1   | integer | \n",
    "\n",
    "Indexes:\n",
    "    \"bar_pkey\" PRIMARY KEY, btree (id)\n",
    "```"
   ]
  },
  {
   "cell_type": "markdown",
   "metadata": {
    "slideshow": {
     "slide_type": "subslide"
    }
   },
   "source": [
    "### Dropping?\n",
    "<br/>\n",
    "```postgres \n",
    "DROP TABLE foo;\n",
    "ERROR:  cannot drop table foo because other objects depend on it\n",
    "DETAIL:  default for table bar column id depends on sequence foo_id_seq\n",
    "HINT:  Use DROP ... CASCADE to drop the dependent objects too.```"
   ]
  },
  {
   "cell_type": "markdown",
   "metadata": {
    "slideshow": {
     "slide_type": "fragment"
    }
   },
   "source": [
    "```postgres\n",
    "DROP TABLE foo CASCADE;\n",
    "DROP TABLE```"
   ]
  },
  {
   "cell_type": "markdown",
   "metadata": {
    "slideshow": {
     "slide_type": "subslide"
    }
   },
   "source": [
    "### Inserting again?\n",
    "<br/>\n",
    "```postgres \n",
    "INSERT INTO bar(val1) VALUES (5);\n",
    "ERROR:  null value in column \"id\" violates not-null constraint\n",
    "DETAIL:  Failing row contains (null, 5).```"
   ]
  },
  {
   "cell_type": "markdown",
   "metadata": {
    "slideshow": {
     "slide_type": "fragment"
    }
   },
   "source": [
    "<div align=\"center\"><iframe src=\"https://giphy.com/embed/8FK0n9SIlod7a\" width=\"480\" height=\"360\" frameBorder=\"0\" class=\"giphy-embed\" allowFullScreen></iframe></div>"
   ]
  },
  {
   "cell_type": "markdown",
   "metadata": {
    "slideshow": {
     "slide_type": "subslide"
    }
   },
   "source": [
    "```\n",
    "      Table \"public.bar\"\n",
    " Column |  Type   | Modifiers \n",
    "--------+---------+-----------\n",
    " id     | integer | not null\n",
    " val1   | integer | \n",
    "Indexes:\n",
    "    \"bar_pkey\" PRIMARY KEY, btree (id)```"
   ]
  },
  {
   "cell_type": "markdown",
   "metadata": {
    "slideshow": {
     "slide_type": "slide"
    }
   },
   "source": [
    "# 2. Native partitioning"
   ]
  },
  {
   "cell_type": "markdown",
   "metadata": {
    "slideshow": {
     "slide_type": "slide"
    }
   },
   "source": [
    "## What is partitioning for?\n",
    "<br/>\n",
    " * Create another level of abstraction – we want to query only one (master) table\n",
    " * The data themselves should be dispatched to different child tables\n",
    " * We expect gains in terms of performance, especially reads"
   ]
  },
  {
   "cell_type": "markdown",
   "metadata": {
    "slideshow": {
     "slide_type": "slide"
    }
   },
   "source": [
    "## How it used to be?\n",
    "\n",
    " * Create a master table.\n",
    " * Create as many inherited tables with datetime constraints as needed.\n",
    " * Create indices, keys, and other constraints on child tables.\n",
    " * Create a function that implements logic for inserts\n",
    " * Create a trigger on the master table that will call above function."
   ]
  },
  {
   "cell_type": "markdown",
   "metadata": {
    "slideshow": {
     "slide_type": "fragment"
    }
   },
   "source": [
    "## What's the current state?\n",
    "\n",
    " * Create a master table, **specify partitioning rule**.\n",
    " * Create as many ~~(inherited)~~ child tables with datetime constraints as needed.\n",
    " * Create indices, keys, and other constraints on child tables.\n",
    " * ~~Create a function that implements logic for inserts~~\n",
    " * ~~Create a trigger on the master table that will call above function.~~"
   ]
  },
  {
   "cell_type": "markdown",
   "metadata": {
    "slideshow": {
     "slide_type": "slide"
    }
   },
   "source": [
    "## Implementation\n",
    "<br />\n",
    "<img src=\"https://raw.githubusercontent.com/jakubwilkowski/pg10/master/img/smogdog.png\">"
   ]
  },
  {
   "cell_type": "markdown",
   "metadata": {
    "slideshow": {
     "slide_type": "subslide"
    }
   },
   "source": [
    "### 1. Create master table, specify partitioning rule\n",
    "<br/>\n",
    "```postgres\n",
    "CREATE TABLE measurement(\n",
    "  id INTEGER GENERATED ALWAYS AS IDENTITY,\n",
    "  datetime TIMESTAMPTZ,\n",
    "  site_id INTEGER,\n",
    "  pollutant_id INTEGER,\n",
    "  value FLOAT)\n",
    "PARTITION BY RANGE (datetime);\n",
    "```"
   ]
  },
  {
   "cell_type": "markdown",
   "metadata": {
    "slideshow": {
     "slide_type": "subslide"
    }
   },
   "source": [
    "### 2. Create a couple of child tables. Define data range limits they should store\n",
    "<br/>\n",
    "```postgres\n",
    "CREATE TABLE measurement_201708\n",
    "PARTITION OF measurement(datetime)\n",
    "FOR VALUES FROM ('2017-08-01') TO ('2017-09-01');\n",
    "\n",
    "CREATE TABLE measurement_201709\n",
    "PARTITION OF measurement(datetime)\n",
    "FOR VALUES FROM ('2017-09-01') TO ('2017-10-01');\n",
    "\n",
    "CREATE TABLE measurement_201710\n",
    "PARTITION OF measurement(datetime)\n",
    "FOR VALUES FROM ('2017-10-01') TO ('2017-11-01');\n",
    "```"
   ]
  },
  {
   "cell_type": "markdown",
   "metadata": {
    "slideshow": {
     "slide_type": "subslide"
    }
   },
   "source": [
    "### 3. Add all needed keys and indices, for each child table\n",
    "<br/>\n",
    "```postgres\n",
    "ALTER TABLE measurement_201708 ADD PRIMARY KEY (id);\n",
    "ALTER TABLE measurement_201708 ADD CONSTRAINT fk_measurement_201708_site \n",
    "  FOREIGN KEY (site_id) REFERENCES site(id);\n",
    "CREATE INDEX idx_measurement_201708_datetime \n",
    "  ON measurement_201708(datetime);\n",
    "```"
   ]
  },
  {
   "cell_type": "markdown",
   "metadata": {
    "slideshow": {
     "slide_type": "slide"
    }
   },
   "source": [
    "## Messing with partitions"
   ]
  },
  {
   "cell_type": "markdown",
   "metadata": {
    "slideshow": {
     "slide_type": "subslide"
    }
   },
   "source": [
    "### Select\n",
    "<br/>\n",
    "```postgres\n",
    "SELECT * FROM measurement \n",
    "WHERE datetime BETWEEN '2017-09-20' AND '2017-09-27';\n",
    "```"
   ]
  },
  {
   "cell_type": "markdown",
   "metadata": {
    "slideshow": {
     "slide_type": "subslide"
    }
   },
   "source": [
    "### Explain\n",
    "<br/>\n",
    "```postgres\n",
    "EXPLAIN SELECT * FROM measurement \n",
    "WHERE datetime BETWEEN '2017-09-20' AND '2017-09-27';\n",
    "```\n",
    "<br/>\n",
    "\n",
    "QUERY PLAN|\n",
    "---|\n",
    "...|\n",
    "Bitmap Index Scan on **idx_measurement_201709_datetime** (cost=0.00..4.22 rows=7 width=0)|\n"
   ]
  },
  {
   "cell_type": "markdown",
   "metadata": {
    "slideshow": {
     "slide_type": "subslide"
    }
   },
   "source": [
    "## Problems\n",
    "<br/>\n",
    " * A lot of repeated commands\n",
    " * No unique keys across children tables\n",
    " * Updates that try to move rows between partitions are not allowed\n",
    " * Lack of support for PK and FK on master table"
   ]
  },
  {
   "cell_type": "markdown",
   "metadata": {
    "slideshow": {
     "slide_type": "slide"
    }
   },
   "source": [
    "# 3. Multicolumn statistics\n",
    "## aka correlated statistics"
   ]
  },
  {
   "cell_type": "markdown",
   "metadata": {
    "slideshow": {
     "slide_type": "slide"
    }
   },
   "source": [
    "## How does postgres estimate number of returned rows?\n",
    "<br/>\n",
    "```postgres\n",
    "SELECT * \n",
    "FROM SOME_TABLE \n",
    "WHERE col1 = cond1\n",
    "  AND col2 = cond2\n",
    "  AND col3 = cond3;\n",
    "```"
   ]
  },
  {
   "cell_type": "markdown",
   "metadata": {
    "slideshow": {
     "slide_type": "fragment"
    }
   },
   "source": [
    "$$rows\\,to\\,retrieve=total\\,number\\,of\\,rows *p_{predicate\\,1}*p_{predicate\\,2}*p_{predicate\\,3}$$"
   ]
  },
  {
   "cell_type": "markdown",
   "metadata": {
    "slideshow": {
     "slide_type": "subslide"
    }
   },
   "source": [
    "<div align=\"center\"><iframe src=\"https://giphy.com/embed/3o85xpYXnjNyfScn28\" width=\"480\" height=\"288\" frameBorder=\"0\" class=\"giphy-embed\" allowFullScreen></iframe></div>"
   ]
  },
  {
   "cell_type": "markdown",
   "metadata": {
    "slideshow": {
     "slide_type": "slide"
    }
   },
   "source": [
    "## Example"
   ]
  },
  {
   "cell_type": "markdown",
   "metadata": {
    "slideshow": {
     "slide_type": "fragment"
    }
   },
   "source": [
    "```postgres\n",
    "CREATE TABLE counting_log (\n",
    "  id INT GENERATED ALWAYS AS IDENTITY PRIMARY KEY, \n",
    "  datetime TIMESTAMP WITH TIME ZONE, \n",
    "  child_id INTEGER, \n",
    "  word TEXT);\n",
    "```\n",
    "<br/>\n",
    "\n",
    "id|datetime|child_id|word|\n",
    "--|--------|--------|----\n",
    "1|'2017-11-08 12:00:00'|123|'eeny'\n",
    "2|'2017-11-08 15:30:00'|130|'meeny'"
   ]
  },
  {
   "cell_type": "markdown",
   "metadata": {
    "slideshow": {
     "slide_type": "subslide"
    }
   },
   "source": [
    "```postgres\n",
    "INSERT INTO counting_log(\n",
    "  datetime,\n",
    "  child_id, \n",
    "  word)\n",
    "SELECT \n",
    "  current_timestamp, \n",
    "  i%1000, \n",
    "  CASE WHEN i%4=1 THEN 'eeny' \n",
    "    WHEN i%4=2 THEN 'meeny' \n",
    "    WHEN i%4=3 THEN 'miny' \n",
    "    WHEN i%4=0 THEN 'moe' \n",
    "    ELSE 'nope' END \n",
    "FROM generate_series(1, 1000000) i;\n",
    "```"
   ]
  },
  {
   "cell_type": "markdown",
   "metadata": {
    "slideshow": {
     "slide_type": "subslide"
    }
   },
   "source": [
    "```postgres\n",
    "EXPLAIN SELECT datetime FROM counting_log WHERE child_id=123;\n",
    "```\n",
    "<br/>\n",
    "\n",
    "|QUERY PLAN\n",
    "|-------------------\n",
    "|Bitmap Heap Scan on counting_log  (cost=19.92..2688.01 **rows=971** width=8)\n",
    "|Recheck Cond: (child_id = 123)\n",
    "|->  Bitmap Index Scan on idx_counting_log_child_id  (cost=0.00..19.68 rows=971 width=0)\n",
    "|Index Cond: (child_id = 123)"
   ]
  },
  {
   "cell_type": "markdown",
   "metadata": {
    "slideshow": {
     "slide_type": "fragment"
    }
   },
   "source": [
    "### Estimated 971 rows with child_id=123"
   ]
  },
  {
   "cell_type": "markdown",
   "metadata": {
    "slideshow": {
     "slide_type": "subslide"
    }
   },
   "source": [
    "```postgres\n",
    "EXPLAIN SELECT datetime FROM counting_log WHERE word='miny';\n",
    "```\n",
    "<br/>\n",
    "\n",
    "|QUERY PLAN\n",
    "|----------------\n",
    "| Seq Scan on counting_log  (cost=0.00..19643.00 **rows=252867** width=8)\n",
    "|   Filter: (word = 'miny'::text)"
   ]
  },
  {
   "cell_type": "markdown",
   "metadata": {
    "slideshow": {
     "slide_type": "fragment"
    }
   },
   "source": [
    "### Estimated 252867 rows with word='miny'"
   ]
  },
  {
   "cell_type": "markdown",
   "metadata": {
    "slideshow": {
     "slide_type": "subslide"
    }
   },
   "source": [
    "## Let's do some math!\n",
    "\n",
    "$$rows\\,to\\,retrieve=total\\,number\\,of\\,rows *p_{predicate\\,1}*p_{predicate\\,2}\\\\\n",
    "=1000000*\\frac{971}{1000000}*\\frac{252867}{1000000}\\approx 245.534$$"
   ]
  },
  {
   "cell_type": "markdown",
   "metadata": {
    "slideshow": {
     "slide_type": "fragment"
    }
   },
   "source": [
    "```postgres\n",
    "EXPLAIN SELECT datetime FROM counting_log WHERE word='miny' and child_id=123;\n",
    "```\n",
    "<br/>\n",
    "\n",
    "|QUERY PLAN\n",
    "|----------\n",
    "|Bitmap Heap Scan on counting_log (cost=19.77..2699.92 **rows=245** width=8)\n",
    "|  Recheck Cond: (child_id = 123)\n",
    "|  Filter: (word = 'miny'::text)\n",
    "|  -> Bitmap Index Scan on idx_counting_log_child_id (cost=0.00..19.71 rows=971 width=0)\n",
    "|        Index Cond: (child_id = 123)"
   ]
  },
  {
   "cell_type": "markdown",
   "metadata": {
    "slideshow": {
     "slide_type": "subslide"
    }
   },
   "source": [
    "## The reality"
   ]
  },
  {
   "cell_type": "markdown",
   "metadata": {
    "slideshow": {
     "slide_type": "fragment"
    }
   },
   "source": [
    "```postgres\n",
    "SELECT count(datetime) FROM counting_log WHERE word='miny' and child_id=123;\n",
    "```\n",
    "<br/>\n",
    "\n",
    "| count \n",
    "|-------\n",
    "|  1000"
   ]
  },
  {
   "cell_type": "markdown",
   "metadata": {
    "slideshow": {
     "slide_type": "subslide"
    }
   },
   "source": [
    "# <div style=\"text-align: center\">245 != 1000"
   ]
  },
  {
   "cell_type": "markdown",
   "metadata": {
    "slideshow": {
     "slide_type": "slide"
    }
   },
   "source": [
    "## What if?\n",
    "<br/><br/>\n",
    "* We actually wanted to join another table to above results (i.e. children info)?\n",
    "* ... and we had more tables to join with **a lot** more data in it?\n",
    "* ... and query planner chose to use nested loop instead of hash join?"
   ]
  },
  {
   "cell_type": "markdown",
   "metadata": {
    "slideshow": {
     "slide_type": "subslide"
    }
   },
   "source": [
    "<div align=\"center\"><iframe src=\"https://giphy.com/embed/687qS11pXwjCM\" width=\"480\" height=\"480\" frameBorder=\"0\" class=\"giphy-embed\" allowFullScreen></iframe></div>"
   ]
  },
  {
   "cell_type": "markdown",
   "metadata": {
    "slideshow": {
     "slide_type": "subslide"
    }
   },
   "source": [
    "<img src=\"https://upload.wikimedia.org/wikipedia/en/thumb/8/82/Reddit_logo_and_wordmark.svg/1280px-Reddit_logo_and_wordmark.svg.png\" style=\"background: #FFFFFF\">"
   ]
  },
  {
   "cell_type": "markdown",
   "metadata": {
    "slideshow": {
     "slide_type": "subslide"
    }
   },
   "source": [
    "<img src=\"http://ww1.prweb.com/prfiles/2017/05/25/14370539/Hacker%20Noon%20-%20how%20hackers%20start%20their%20afternoon%20AMI%20David%20Smooke.jpg\">"
   ]
  },
  {
   "cell_type": "markdown",
   "metadata": {
    "slideshow": {
     "slide_type": "subslide"
    }
   },
   "source": [
    "<img src=\"https://scontent-frx5-1.xx.fbcdn.net/v/t31.0-8/456226_10150559388837382_1784277255_o.jpg?oh=b089bd5375b2a9ce7ab5c58295595a03&oe=5AAEF011\">"
   ]
  },
  {
   "cell_type": "markdown",
   "metadata": {
    "slideshow": {
     "slide_type": "subslide"
    }
   },
   "source": [
    "<div align=\"center\"><iframe src=\"https://giphy.com/embed/hFmIU5GQF18Aw\" width=\"343\" height=\"480\" frameBorder=\"0\" class=\"giphy-embed\" allowFullScreen></iframe></div>"
   ]
  },
  {
   "cell_type": "markdown",
   "metadata": {
    "slideshow": {
     "slide_type": "slide"
    }
   },
   "source": [
    "## Postgres 10 to the rescue!"
   ]
  },
  {
   "cell_type": "markdown",
   "metadata": {
    "slideshow": {
     "slide_type": "fragment"
    }
   },
   "source": [
    "```postgres\n",
    "CREATE STATISTICS st_counting_log_child_id_word \n",
    "  ON child_id, word FROM counting_log;\n",
    "```"
   ]
  },
  {
   "cell_type": "markdown",
   "metadata": {
    "slideshow": {
     "slide_type": "subslide"
    }
   },
   "source": [
    "```postgres\n",
    "ANALYZE counting_log;\n",
    "EXPLAIN SELECT datetime FROM counting_log WHERE word='miny' and child_id=123;\n",
    "```\n",
    "<br/>\n",
    "\n",
    "|QUERY PLAN \n",
    "|-----------\n",
    "| Bitmap Heap Scan on counting_log  (cost=19.93..2692.85 **rows=968** width=8)\n",
    "|   Recheck Cond: (child_id = 123)\n",
    "|   Filter: (word = 'miny'::text)\n",
    "|   ->  Bitmap Index Scan on idx_counting_log_child_id  (cost=0.00..19.68 rows=968 width=0)\n",
    "|         Index Cond: (child_id = 123)"
   ]
  },
  {
   "cell_type": "markdown",
   "metadata": {
    "slideshow": {
     "slide_type": "subslide"
    }
   },
   "source": [
    "# <div style=\"text-align: center\">968 &asymp; 1000"
   ]
  },
  {
   "cell_type": "markdown",
   "metadata": {
    "slideshow": {
     "slide_type": "subslide"
    }
   },
   "source": [
    "### Let's look closer at our new statistics\n",
    "<br/>\n",
    "```postgres\n",
    "SELECT stxname, stxkeys, stxkind, stxndistinct, stxdependencies \n",
    "  FROM pg_statistic_ext \n",
    "  WHERE stxname = 'st_counting_log_child_id_word';\n",
    "```\n",
    "<br/>\n",
    "\n",
    "stxname            | stxkeys | stxkind |  stxndistinct  |   stxdependencies    \n",
    "-------------------------------|---------|--------|----------------|----------------------\n",
    " st_counting_log_child_id_word | 3 4     | {d,f}   | {\"3, 4\": 1000} | {\"3 => 4\": 1.000000}"
   ]
  },
  {
   "cell_type": "markdown",
   "metadata": {
    "slideshow": {
     "slide_type": "slide"
    }
   },
   "source": [
    "# 4. More parallelism!"
   ]
  },
  {
   "cell_type": "markdown",
   "metadata": {
    "slideshow": {
     "slide_type": "slide"
    }
   },
   "source": [
    "## Parallel queries in Postgres so far\n",
    "<br/>\n",
    "* Postgres 9.6:\n",
    "  * Parallel Scans\n",
    "    * Sequential scan only\n",
    "  * Parallel Joins\n",
    "    * Nested loop\n",
    "    * Hash join\n",
    "  * Parallel Aggregation\n",
    "  "
   ]
  },
  {
   "cell_type": "markdown",
   "metadata": {
    "slideshow": {
     "slide_type": "subslide"
    }
   },
   "source": [
    "## With pg10 we also get:\n",
    "<br/>\n",
    "* Postgres 10:\n",
    "  * Parallel Scans\n",
    "    * sequential scan only\n",
    "    * **bitmap heap scan**\n",
    "    * **index scan**\n",
    "    * **index-only scan**\n",
    "  * Parallel Joins\n",
    "    * nested loop\n",
    "    * hash join\n",
    "    * **merge join**\n",
    "  * Parallel Aggregation "
   ]
  },
  {
   "cell_type": "markdown",
   "metadata": {
    "slideshow": {
     "slide_type": "slide"
    }
   },
   "source": [
    "## Example"
   ]
  },
  {
   "cell_type": "markdown",
   "metadata": {
    "slideshow": {
     "slide_type": "subslide"
    }
   },
   "source": [
    "```postgres\n",
    "CREATE TABLE trigonometry \n",
    "AS \n",
    "SELECT \n",
    "  i AS arg, \n",
    "  sin(i) AS sine, \n",
    "  cos(i) AS cosine, \n",
    "  tan(i) AS tangent \n",
    "FROM generate_series(0, 100000, 0.01) i;\n",
    "\n",
    "CREATE INDEX idx_trigonometry_arg ON trigonometry(arg);\n",
    "CREATE INDEX idx_trigonometry_sine ON trigonometry(sine);\n",
    "CREATE INDEX idx_trigonometry_cosine ON trigonometry(cosine);\n",
    "```\n",
    "<br/>\n",
    "\n",
    "  arg  |         sine         |        cosine        |       tangent        \n",
    "-------|----------------------|----------------------|----------------------\n",
    "     0 |                    0 |                    1 |                    0\n",
    "  0.01 |  0.00999983333416666 |    0.999950000416665 |   0.0100003333466672\n"
   ]
  },
  {
   "cell_type": "markdown",
   "metadata": {
    "slideshow": {
     "slide_type": "subslide"
    }
   },
   "source": [
    "### Parallel aggregate (old stuff)"
   ]
  },
  {
   "cell_type": "markdown",
   "metadata": {
    "slideshow": {
     "slide_type": "fragment"
    }
   },
   "source": [
    "```postgres\n",
    "EXPLAIN SELECT count(arg) FROM trigonometry WHERE arg > 50000;\n",
    "```                                         \n",
    "<br/>\n",
    "\n",
    "|QUERY PLAN\n",
    "|--------------------------------------------------------\n",
    "| Finalize Aggregate  (cost=138908.78..138908.79 rows=1 width=8)\n",
    "|   ->  Gather  (cost=138908.56..138908.77 rows=2 width=8)\n",
    "|         Workers Planned: 2\n",
    "|         ->  Partial Aggregate  (cost=137908.56..137908.57 rows=1 width=8)\n",
    "|               ->  Parallel Seq Scan on trigonometry  (cost=0.00..134436.34 rows=1388889 width=32)\n",
    "|                     Filter: (arg > '50000'::numeric)\n"
   ]
  },
  {
   "cell_type": "markdown",
   "metadata": {
    "slideshow": {
     "slide_type": "subslide"
    }
   },
   "source": [
    "### Parallel index scan (new and shiny)"
   ]
  },
  {
   "cell_type": "markdown",
   "metadata": {
    "slideshow": {
     "slide_type": "fragment"
    }
   },
   "source": [
    "```postgres\n",
    "EXPLAIN SELECT * FROM trigonometry WHERE arg > 50000;\n",
    "```\n",
    "<br/>\n",
    "\n",
    "|QUERY PLAN\n",
    "|--------------------------------------------------\n",
    "| Index Scan using idx_trigonometry_arg on trigonometry  (cost=0.43..202722.77 rows=4988362 width=32)\n",
    "|   Index Cond: (arg > '50000'::numeric)"
   ]
  },
  {
   "cell_type": "markdown",
   "metadata": {
    "slideshow": {
     "slide_type": "subslide"
    }
   },
   "source": [
    "### Parallel index scan (2nd attempt)"
   ]
  },
  {
   "cell_type": "markdown",
   "metadata": {
    "slideshow": {
     "slide_type": "fragment"
    }
   },
   "source": [
    "```postgres\n",
    "SET parallel_setup_cost=100;\n",
    "EXPLAIN SELECT * FROM trigonometry WHERE arg > 50000;\n",
    "```\n",
    "<br/>\n",
    "\n",
    "|QUERY PLAN\n",
    "|------------------------------\n",
    "|Index Scan using idx_trigonometry_arg on trigonometry  (cost=0.43..202722.77 rows=4988362 width=32)\n",
    "|   Index Cond: (arg > '50000'::numeric)\n"
   ]
  },
  {
   "cell_type": "markdown",
   "metadata": {
    "slideshow": {
     "slide_type": "fragment"
    }
   },
   "source": [
    "<div align=\"center\"><iframe src=\"https://giphy.com/embed/Az1CJ2MEjmsp2\" width=\"480\" height=\"221\" frameBorder=\"0\" class=\"giphy-embed\" allowFullScreen></iframe></div>"
   ]
  },
  {
   "cell_type": "markdown",
   "metadata": {
    "slideshow": {
     "slide_type": "subslide"
    }
   },
   "source": [
    "### Parallel index scan (one more try)"
   ]
  },
  {
   "cell_type": "markdown",
   "metadata": {
    "slideshow": {
     "slide_type": "fragment"
    }
   },
   "source": [
    "```postgres\n",
    "SET parallel_setup_cost=1000;\n",
    "EXPLAIN SELECT arg FROM trigonometry \n",
    "        WHERE sine > 0.999 AND arg >100 AND arg < 10000;\n",
    "```\n",
    "<br/>\n",
    "\n",
    "|QUERY PLAN\n",
    "|----------------------------\n",
    "| **Gather  (cost=1000.43..40550.21 rows=13356 width=8)**\n",
    "|   **Workers Planned: 2**\n",
    "|   ->  **Parallel Index Scan** using idx_trigonometry_arg on trigonometry  (cost=0.43..38214.61 rows=5565 width=8)\n",
    "|         Index Cond: ((arg > '100'::numeric) AND (arg < '10000'::numeric))\n",
    "|         Filter: (sine > '0.999'::double precision)"
   ]
  },
  {
   "cell_type": "markdown",
   "metadata": {
    "slideshow": {
     "slide_type": "slide"
    }
   },
   "source": [
    "## Let's spread some chaos\n",
    "\n",
    "<div align=\"center\"><iframe src=\"https://giphy.com/embed/moiWSfviYKNgc\" width=\"480\" height=\"360\" frameBorder=\"0\" class=\"giphy-embed\" allowFullScreen></iframe></div>"
   ]
  },
  {
   "cell_type": "markdown",
   "metadata": {
    "slideshow": {
     "slide_type": "subslide"
    }
   },
   "source": [
    "```postgres\n",
    "SET max_parallel_workers=0;\n",
    "SET force_parallel_mode=on;\n",
    "EXPLAIN ANALYZE SELECT arg FROM trigonometry \n",
    "                  WHERE sine > 0.999 AND arg >100 AND arg < 10000;\n",
    "```"
   ]
  },
  {
   "cell_type": "markdown",
   "metadata": {
    "slideshow": {
     "slide_type": "fragment"
    }
   },
   "source": [
    "|QUERY PLAN\n",
    "|-------------\n",
    "| Gather  (cost=1000.43..40550.21 rows=13356 width=8) (actual time=1.015..238.902 rows=14097 loops=1)\n",
    "|   **Workers Planned: 2**\n",
    "|   **Workers Launched: 0**\n",
    "|..."
   ]
  },
  {
   "cell_type": "markdown",
   "metadata": {
    "slideshow": {
     "slide_type": "slide"
    }
   },
   "source": [
    "# 5. Full text search support JSON & JSONB columns"
   ]
  },
  {
   "cell_type": "markdown",
   "metadata": {
    "slideshow": {
     "slide_type": "slide"
    }
   },
   "source": [
    "## In previous releases full text search worked only on TEXT columns"
   ]
  },
  {
   "cell_type": "markdown",
   "metadata": {
    "slideshow": {
     "slide_type": "slide"
    }
   },
   "source": [
    "## Example"
   ]
  },
  {
   "cell_type": "markdown",
   "metadata": {
    "slideshow": {
     "slide_type": "subslide"
    }
   },
   "source": [
    "```postgres\n",
    "CREATE TABLE transactions(\n",
    "  id INT GENERATED ALWAYS AS IDENTITY PRIMARY KEY, \n",
    "  transaction_id VARCHAR(10), \n",
    "  user_id INTEGER, \n",
    "  created_datetime TIMESTAMP WITH TIME ZONE, \n",
    "  result BOOL, \n",
    "  amount INT ,\n",
    "  response_data JSON);\n",
    "```"
   ]
  },
  {
   "cell_type": "markdown",
   "metadata": {
    "slideshow": {
     "slide_type": "subslide"
    }
   },
   "source": [
    "### Creating a GIN index\n",
    "<br/>\n",
    "```postgres\n",
    "CREATE INDEX idx_transactions_response_data \n",
    "  ON transactions USING GIN (to_tsvector('english', response_data));\n",
    "```"
   ]
  },
  {
   "cell_type": "markdown",
   "metadata": {
    "slideshow": {
     "slide_type": "subslide"
    }
   },
   "source": [
    "### Querying using TS\n",
    "\n",
    "```postgres\n",
    "SELECT transaction_id \n",
    "  FROM transactions \n",
    "  WHERE to_tsvector('english', response_data->'transaction'->'message')  \n",
    "    @@ to_tsquery('english', 'insufficient') LIMIT 5;\n",
    "```\n",
    "<br/>\n",
    "\n",
    "|transaction_id\n",
    "|----------------\n",
    "| 91a40daa7d\n",
    "| 4fc852f17b\n",
    "| 6b32294ed4\n",
    "| a9ae624482\n",
    "| 23eb7d83c1"
   ]
  },
  {
   "cell_type": "markdown",
   "metadata": {
    "slideshow": {
     "slide_type": "subslide"
    }
   },
   "source": [
    "### Explain\n",
    "<br/>\n",
    "```postgres\n",
    "EXPLAIN SELECT transaction_id FROM transactions \n",
    "        WHERE to_tsvector('english', response_data) \n",
    "          @@ to_tsquery('english', 'insufficient') LIMIT 5;\n",
    "```\n",
    "<br/>\n",
    "\n",
    "|QUERY PLAN\n",
    "|--------------\n",
    "| Limit  (cost=8.04..23.42 rows=5 width=11)\n",
    "|   ->  Bitmap Heap Scan on transactions  (cost=8.04..23.42 rows=5 width=11)\n",
    "|         Recheck Cond: (to_tsvector('english'::regconfig, response_data) @@ '''insuffici'''::tsquery)\n",
    "|         ->  **Bitmap Index Scan on idx_transactions_response_data**  (cost=0.00..8.04 rows=5 width=0)\n",
    "|               Index Cond: (to_tsvector('english'::regconfig, response_data) @@ '''insuffici'''::tsquery)"
   ]
  },
  {
   "cell_type": "markdown",
   "metadata": {
    "slideshow": {
     "slide_type": "slide"
    }
   },
   "source": [
    "# Wait, there's even more"
   ]
  },
  {
   "cell_type": "markdown",
   "metadata": {
    "slideshow": {
     "slide_type": "fragment"
    }
   },
   "source": [
    "* logical replication\n",
    "* safer hash indices\n",
    "* quorum commit for synchronous replication\n",
    "* XML tables\n",
    "* SCRAM authentication\n",
    "* renaming of some functions\n",
    "* \\if \\elif \\else statements in psql\n",
    "* ..."
   ]
  },
  {
   "cell_type": "markdown",
   "metadata": {
    "slideshow": {
     "slide_type": "slide"
    }
   },
   "source": [
    "# Epilogue\n"
   ]
  },
  {
   "cell_type": "markdown",
   "metadata": {
    "slideshow": {
     "slide_type": "fragment"
    }
   },
   "source": [
    "### All examples will be available in [another notebook](https://github.com/jakubwilkowski/pg10/blob/master/pg10_examples.ipynb) to fully leverage jupyter's capabilites\n",
    "\n",
    "<br/><br/>\n",
    "\n",
    "### [5 Novelties in PostgreSQL 10 That Will Make You a Happier Developer](https://10clouds.com/blog/postgresql-10/)\n",
    "\n"
   ]
  },
  {
   "cell_type": "markdown",
   "metadata": {
    "slideshow": {
     "slide_type": "subslide"
    }
   },
   "source": [
    "# We're hiring!\n",
    "<br/>\n",
    "\n",
    "<img class=\"tenc-header__logo\" src=\"https://10clouds.com/wp-content/themes/thegem/dist/images/10clouds-logo-color-black.svg\" alt=\"10Clouds\">\n",
    "\n",
    "<br/><br/>\n",
    "## * [Python Developer](https://10clouds.com/careers/python-developer/)\n",
    "## * [JavaScript Developer](https://10clouds.com/careers/javascript-developer/)\n",
    "## * [React Native Developer](https://10clouds.com/careers/react-native-developer/)\n",
    "## * [Linux Administrator](https://10clouds.com/careers/linux-administrator/)"
   ]
  },
  {
   "cell_type": "markdown",
   "metadata": {
    "slideshow": {
     "slide_type": "slide"
    }
   },
   "source": [
    "# Further reading\n"
   ]
  },
  {
   "cell_type": "markdown",
   "metadata": {
    "slideshow": {
     "slide_type": "subslide"
    }
   },
   "source": [
    "\n",
    "1. Identity columns\n",
    "  * [(Doc) Create table](https://www.postgresql.org/docs/10/static/sql-createtable.html)\n",
    "  * [WAITING FOR POSTGRESQL 10 – IDENTITY COLUMNS](https://www.depesz.com/2017/04/10/waiting-for-postgresql-10-identity-columns/)\n",
    "  * [PostgreSQL 10 identity columns explained](https://blog.2ndquadrant.com/postgresql-10-identity-columns/)\n",
    "2. Native partitioning\n",
    "  * [(Doc) Table partitioning](https://www.postgresql.org/docs/10/static/ddl-partitioning.html)\n",
    "  * [How to scale PostgreSQL 10 using table inheritance and declarative partitioning](https://blog.timescale.com/scaling-partitioning-data-postgresql-10-explained-cd48a712a9a1)\n",
    "  * [PG Phriday: pglogical and Postgres 10 Partitions](https://blog.2ndquadrant.com/pg-phriday-pglogical-postgres-10-partitions/)\n",
    "3. Multicolumn statistics\n",
    "  * [(Doc) Create statistics](https://www.postgresql.org/docs/10/static/sql-createstatistics.html)\n",
    "  * [(Doc) Statistics Used by the Planner](https://www.postgresql.org/docs/10/static/planner-stats.html#PLANNER-STATS-EXTENDED)\n",
    "  * [(Doc) Multivariate Statistics Examples](https://www.postgresql.org/docs/10/static/multivariate-statistics-examples.html)\n",
    "  * [WAITING FOR POSTGRESQL 10 – IMPLEMENT MULTIVARIATE N-DISTINCT COEFFICIENTS](https://www.depesz.com/2017/05/19/waiting-for-postgresql-10-implement-multivariate-n-distinct-coefficients/)\n",
    "  * [PG Phriday: Crazy Correlated Column Crusade](https://blog.2ndquadrant.com/pg-phriday-crazy-correlated-column-crusade/)\n",
    "4. Parallel Queries\n",
    "  * [(Doc) Parallel Query](https://www.postgresql.org/docs/10/static/parallel-query.html)\n",
    "5. Full text search support for JSON & JSONB\n",
    "  * [WAITING FOR POSTGRESQL 10 – FULL TEXT SEARCH SUPPORT FOR JSON AND JSONB](https://www.depesz.com/2017/04/04/waiting-for-postgresql-10-full-text-search-support-for-json-and-jsonb/)\n",
    "6. Other\n",
    " * [Release Notes](https://www.postgresql.org/docs/10/static/release-10-1.html)\n",
    " * [New in postgres 10](https://wiki.postgresql.org/wiki/New_in_postgres_10)"
   ]
  },
  {
   "cell_type": "markdown",
   "metadata": {
    "slideshow": {
     "slide_type": "slide"
    }
   },
   "source": [
    "# Thank you!\n",
    "<br/>\n",
    "<br/>\n",
    "<br/>\n",
    "\n",
    "## Jakub Wilkowski\n",
    "### email: [wilkowski.jakub@gmail.com](wilkowski.jakub@gmail.com)\n",
    "### github: [/jakubwilkowski](http://github.com/jakubwilkowski)"
   ]
  },
  {
   "cell_type": "markdown",
   "metadata": {
    "slideshow": {
     "slide_type": "fragment"
    }
   },
   "source": [
    "<div align=\"center\"><iframe src=\"https://giphy.com/embed/l3V0sNZ0NGomeurCM\" width=\"480\" height=\"268\" frameBorder=\"0\" class=\"giphy-embed\" allowFullScreen></iframe></div>"
   ]
  },
  {
   "cell_type": "markdown",
   "metadata": {
    "slideshow": {
     "slide_type": "slide"
    }
   },
   "source": [
    "# Questions?\n",
    "\n",
    "<br/>\n",
    "<div align=\"center\"><iframe align=\"center\" src=\"https://giphy.com/embed/c5iMjFfrUFpza\" width=\"480\" height=\"266\" frameBorder=\"0\" class=\"giphy-embed\" allowFullScreen></iframe></div>"
   ]
  }
 ],
 "metadata": {
  "celltoolbar": "Slideshow",
  "kernelspec": {
   "display_name": "Python 3",
   "language": "python",
   "name": "python3"
  },
  "language_info": {
   "codemirror_mode": {
    "name": "ipython",
    "version": 2
   },
   "file_extension": ".py",
   "mimetype": "text/x-python",
   "name": "python",
   "nbconvert_exporter": "python",
   "pygments_lexer": "ipython2",
   "version": "2.7.12"
  },
  "toc": {
   "nav_menu": {},
   "number_sections": false,
   "sideBar": true,
   "skip_h1_title": false,
   "toc_cell": false,
   "toc_position": {
    "height": "1002px",
    "left": "0px",
    "right": "1388px",
    "top": "111px",
    "width": "212px"
   },
   "toc_section_display": "block",
   "toc_window_display": true
  }
 },
 "nbformat": 4,
 "nbformat_minor": 1
}
